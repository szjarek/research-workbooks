{
 "cells": [
  {
   "cell_type": "markdown",
   "metadata": {},
   "source": [
    "### Downloading source ONNX model"
   ]
  },
  {
   "cell_type": "code",
   "execution_count": 1,
   "metadata": {
    "tags": []
   },
   "outputs": [],
   "source": [
    "import os\n",
    "import urllib"
   ]
  },
  {
   "cell_type": "code",
   "execution_count": 2,
   "metadata": {},
   "outputs": [],
   "source": [
    "# Model to be used for conversion.\n",
    "# NOTE: it weights over 200MB. \n",
    "# To save space and internet bandwidth, \n",
    "# please change 'resnet152-v2-7' to 4 times smaller 'resnet18-v2-7'.\n",
    "\n",
    "MODEL_NAME = 'resnet152-v2-7'"
   ]
  },
  {
   "cell_type": "code",
   "execution_count": 3,
   "metadata": {},
   "outputs": [],
   "source": [
    "SRC_MODEL_FILE_NAME = MODEL_NAME + '.onnx'\n",
    "SRC_MODEL_URL = os.path.join(\n",
    "    'https://github.com/onnx/models/raw/master/vision/classification/resnet/model', \n",
    "    SRC_MODEL_FILE_NAME)\n",
    "\n",
    "MODELS_PATH = './models'\n",
    "DST_MODEL_FILE_NAME = 'ResNet.mlmodel'"
   ]
  },
  {
   "cell_type": "code",
   "execution_count": 4,
   "metadata": {},
   "outputs": [],
   "source": [
    "def download_file(url: str, folder_path: str, skip_if_exists: bool = True):\n",
    "    base_name = os.path.basename(url)\n",
    "    dest_path = os.path.join(folder_path, base_name)\n",
    "    if os.path.exists(dest_path):\n",
    "        print(\"File {} already exists, skipping download...\".format(dest_path))\n",
    "        return\n",
    "\n",
    "    try:\n",
    "        urllib.request.urlretrieve(url, dest_path)\n",
    "    except Exception as e:\n",
    "        print(\"Could not download file: {}, error: {}\".format(dest_path, e))    "
   ]
  },
  {
   "cell_type": "code",
   "execution_count": 5,
   "metadata": {
    "tags": []
   },
   "outputs": [
    {
     "name": "stdout",
     "output_type": "stream",
     "text": [
      "File ./models/resnet152-v2-7.onnx already exists, skipping download...\n"
     ]
    }
   ],
   "source": [
    "download_file(SRC_MODEL_URL, MODELS_PATH)"
   ]
  },
  {
   "cell_type": "markdown",
   "metadata": {},
   "source": [
    "### Converting the ONNX model to CoreML format"
   ]
  },
  {
   "cell_type": "code",
   "execution_count": 7,
   "metadata": {},
   "outputs": [],
   "source": [
    "import coremltools as ct\n",
    "import numpy as np"
   ]
  },
  {
   "cell_type": "code",
   "execution_count": 8,
   "metadata": {},
   "outputs": [],
   "source": [
    "def resnet_norm_to_scale_bias(mean_rgb, stddev_rgb):\n",
    "    image_scale = 1 / 255. / (sum(stddev_rgb) / 3)    \n",
    "    bias_rgb = []\n",
    "    for i in range(3):\n",
    "        bias = -mean_rgb[i] / stddev_rgb[i]\n",
    "        bias_rgb.append(bias)\n",
    "    \n",
    "    return image_scale, bias_rgb"
   ]
  },
  {
   "cell_type": "code",
   "execution_count": 9,
   "metadata": {},
   "outputs": [],
   "source": [
    "# Preprocessing parameters specific for ResNet model \n",
    "# as defined at: https://github.com/onnx/models/tree/master/vision/classification/resnet\n",
    "mean_vec = np.array([0.485, 0.456, 0.406])\n",
    "stddev_vec = np.array([0.229, 0.224, 0.225])"
   ]
  },
  {
   "cell_type": "code",
   "execution_count": 10,
   "metadata": {},
   "outputs": [],
   "source": [
    "image_scale, (bias_r, bias_g, bias_b) = resnet_norm_to_scale_bias(mean_vec, stddev_vec)"
   ]
  },
  {
   "cell_type": "code",
   "execution_count": 11,
   "metadata": {
    "tags": []
   },
   "outputs": [
    {
     "name": "stdout",
     "output_type": "stream",
     "text": [
      "0.01735207357279195 -2.1179039301310043 -2.0357142857142856 -1.8044444444444445\n"
     ]
    }
   ],
   "source": [
    "print(image_scale, bias_r, bias_g, bias_b)"
   ]
  },
  {
   "cell_type": "code",
   "execution_count": 12,
   "metadata": {
    "tags": []
   },
   "outputs": [
    {
     "name": "stdout",
     "output_type": "stream",
     "text": [
      "1/514: Converting Node Type BatchNormalization\n",
      "2/514: Converting Node Type Conv\n",
      "3/514: Converting Node Type BatchNormalization\n",
      "4/514: Converting Node Type Relu\n",
      "5/514: Converting Node Type MaxPool\n",
      "6/514: Converting Node Type BatchNormalization\n",
      "7/514: Converting Node Type Relu\n",
      "8/514: Converting Node Type Conv\n",
      "9/514: Converting Node Type BatchNormalization\n",
      "10/514: Converting Node Type Relu\n",
      "11/514: Converting Node Type Conv\n",
      "12/514: Converting Node Type BatchNormalization\n",
      "13/514: Converting Node Type Relu\n",
      "14/514: Converting Node Type Conv\n",
      "15/514: Converting Node Type Conv\n",
      "16/514: Converting Node Type Add\n",
      "17/514: Converting Node Type BatchNormalization\n",
      "18/514: Converting Node Type Relu\n",
      "19/514: Converting Node Type Conv\n",
      "20/514: Converting Node Type BatchNormalization\n",
      "21/514: Converting Node Type Relu\n",
      "22/514: Converting Node Type Conv\n",
      "23/514: Converting Node Type BatchNormalization\n",
      "24/514: Converting Node Type Relu\n",
      "25/514: Converting Node Type Conv\n",
      "26/514: Converting Node Type Add\n",
      "27/514: Converting Node Type BatchNormalization\n",
      "28/514: Converting Node Type Relu\n",
      "29/514: Converting Node Type Conv\n",
      "30/514: Converting Node Type BatchNormalization\n",
      "31/514: Converting Node Type Relu\n",
      "32/514: Converting Node Type Conv\n",
      "33/514: Converting Node Type BatchNormalization\n",
      "34/514: Converting Node Type Relu\n",
      "35/514: Converting Node Type Conv\n",
      "36/514: Converting Node Type Add\n",
      "37/514: Converting Node Type BatchNormalization\n",
      "38/514: Converting Node Type Relu\n",
      "39/514: Converting Node Type Conv\n",
      "40/514: Converting Node Type BatchNormalization\n",
      "41/514: Converting Node Type Relu\n",
      "42/514: Converting Node Type Conv\n",
      "43/514: Converting Node Type BatchNormalization\n",
      "44/514: Converting Node Type Relu\n",
      "45/514: Converting Node Type Conv\n",
      "46/514: Converting Node Type Conv\n",
      "47/514: Converting Node Type Add\n",
      "48/514: Converting Node Type BatchNormalization\n",
      "49/514: Converting Node Type Relu\n",
      "50/514: Converting Node Type Conv\n",
      "51/514: Converting Node Type BatchNormalization\n",
      "52/514: Converting Node Type Relu\n",
      "53/514: Converting Node Type Conv\n",
      "54/514: Converting Node Type BatchNormalization\n",
      "55/514: Converting Node Type Relu\n",
      "56/514: Converting Node Type Conv\n",
      "57/514: Converting Node Type Add\n",
      "58/514: Converting Node Type BatchNormalization\n",
      "59/514: Converting Node Type Relu\n",
      "60/514: Converting Node Type Conv\n",
      "61/514: Converting Node Type BatchNormalization\n",
      "62/514: Converting Node Type Relu\n",
      "63/514: Converting Node Type Conv\n",
      "64/514: Converting Node Type BatchNormalization\n",
      "65/514: Converting Node Type Relu\n",
      "66/514: Converting Node Type Conv\n",
      "67/514: Converting Node Type Add\n",
      "68/514: Converting Node Type BatchNormalization\n",
      "69/514: Converting Node Type Relu\n",
      "70/514: Converting Node Type Conv\n",
      "71/514: Converting Node Type BatchNormalization\n",
      "72/514: Converting Node Type Relu\n",
      "73/514: Converting Node Type Conv\n",
      "74/514: Converting Node Type BatchNormalization\n",
      "75/514: Converting Node Type Relu\n",
      "76/514: Converting Node Type Conv\n",
      "77/514: Converting Node Type Add\n",
      "78/514: Converting Node Type BatchNormalization\n",
      "79/514: Converting Node Type Relu\n",
      "80/514: Converting Node Type Conv\n",
      "81/514: Converting Node Type BatchNormalization\n",
      "82/514: Converting Node Type Relu\n",
      "83/514: Converting Node Type Conv\n",
      "84/514: Converting Node Type BatchNormalization\n",
      "85/514: Converting Node Type Relu\n",
      "86/514: Converting Node Type Conv\n",
      "87/514: Converting Node Type Add\n",
      "88/514: Converting Node Type BatchNormalization\n",
      "89/514: Converting Node Type Relu\n",
      "90/514: Converting Node Type Conv\n",
      "91/514: Converting Node Type BatchNormalization\n",
      "92/514: Converting Node Type Relu\n",
      "93/514: Converting Node Type Conv\n",
      "94/514: Converting Node Type BatchNormalization\n",
      "95/514: Converting Node Type Relu\n",
      "96/514: Converting Node Type Conv\n",
      "97/514: Converting Node Type Add\n",
      "98/514: Converting Node Type BatchNormalization\n",
      "99/514: Converting Node Type Relu\n",
      "100/514: Converting Node Type Conv\n",
      "101/514: Converting Node Type BatchNormalization\n",
      "102/514: Converting Node Type Relu\n",
      "103/514: Converting Node Type Conv\n",
      "104/514: Converting Node Type BatchNormalization\n",
      "105/514: Converting Node Type Relu\n",
      "106/514: Converting Node Type Conv\n",
      "107/514: Converting Node Type Add\n",
      "108/514: Converting Node Type BatchNormalization\n",
      "109/514: Converting Node Type Relu\n",
      "110/514: Converting Node Type Conv\n",
      "111/514: Converting Node Type BatchNormalization\n",
      "112/514: Converting Node Type Relu\n",
      "113/514: Converting Node Type Conv\n",
      "114/514: Converting Node Type BatchNormalization\n",
      "115/514: Converting Node Type Relu\n",
      "116/514: Converting Node Type Conv\n",
      "117/514: Converting Node Type Add\n",
      "118/514: Converting Node Type BatchNormalization\n",
      "119/514: Converting Node Type Relu\n",
      "120/514: Converting Node Type Conv\n",
      "121/514: Converting Node Type BatchNormalization\n",
      "122/514: Converting Node Type Relu\n",
      "123/514: Converting Node Type Conv\n",
      "124/514: Converting Node Type BatchNormalization\n",
      "125/514: Converting Node Type Relu\n",
      "126/514: Converting Node Type Conv\n",
      "127/514: Converting Node Type Conv\n",
      "128/514: Converting Node Type Add\n",
      "129/514: Converting Node Type BatchNormalization\n",
      "130/514: Converting Node Type Relu\n",
      "131/514: Converting Node Type Conv\n",
      "132/514: Converting Node Type BatchNormalization\n",
      "133/514: Converting Node Type Relu\n",
      "134/514: Converting Node Type Conv\n",
      "135/514: Converting Node Type BatchNormalization\n",
      "136/514: Converting Node Type Relu\n",
      "137/514: Converting Node Type Conv\n",
      "138/514: Converting Node Type Add\n",
      "139/514: Converting Node Type BatchNormalization\n",
      "140/514: Converting Node Type Relu\n",
      "141/514: Converting Node Type Conv\n",
      "142/514: Converting Node Type BatchNormalization\n",
      "143/514: Converting Node Type Relu\n",
      "144/514: Converting Node Type Conv\n",
      "145/514: Converting Node Type BatchNormalization\n",
      "146/514: Converting Node Type Relu\n",
      "147/514: Converting Node Type Conv\n",
      "148/514: Converting Node Type Add\n",
      "149/514: Converting Node Type BatchNormalization\n",
      "150/514: Converting Node Type Relu\n",
      "151/514: Converting Node Type Conv\n",
      "152/514: Converting Node Type BatchNormalization\n",
      "153/514: Converting Node Type Relu\n",
      "154/514: Converting Node Type Conv\n",
      "155/514: Converting Node Type BatchNormalization\n",
      "156/514: Converting Node Type Relu\n",
      "157/514: Converting Node Type Conv\n",
      "158/514: Converting Node Type Add\n",
      "159/514: Converting Node Type BatchNormalization\n",
      "160/514: Converting Node Type Relu\n",
      "161/514: Converting Node Type Conv\n",
      "162/514: Converting Node Type BatchNormalization\n",
      "163/514: Converting Node Type Relu\n",
      "164/514: Converting Node Type Conv\n",
      "165/514: Converting Node Type BatchNormalization\n",
      "166/514: Converting Node Type Relu\n",
      "167/514: Converting Node Type Conv\n",
      "168/514: Converting Node Type Add\n",
      "169/514: Converting Node Type BatchNormalization\n",
      "170/514: Converting Node Type Relu\n",
      "171/514: Converting Node Type Conv\n",
      "172/514: Converting Node Type BatchNormalization\n",
      "173/514: Converting Node Type Relu\n",
      "174/514: Converting Node Type Conv\n",
      "175/514: Converting Node Type BatchNormalization\n",
      "176/514: Converting Node Type Relu\n",
      "177/514: Converting Node Type Conv\n",
      "178/514: Converting Node Type Add\n",
      "179/514: Converting Node Type BatchNormalization\n",
      "180/514: Converting Node Type Relu\n",
      "181/514: Converting Node Type Conv\n",
      "182/514: Converting Node Type BatchNormalization\n",
      "183/514: Converting Node Type Relu\n",
      "184/514: Converting Node Type Conv\n",
      "185/514: Converting Node Type BatchNormalization\n",
      "186/514: Converting Node Type Relu\n",
      "187/514: Converting Node Type Conv\n",
      "188/514: Converting Node Type Add\n",
      "189/514: Converting Node Type BatchNormalization\n",
      "190/514: Converting Node Type Relu\n",
      "191/514: Converting Node Type Conv\n",
      "192/514: Converting Node Type BatchNormalization\n",
      "193/514: Converting Node Type Relu\n",
      "194/514: Converting Node Type Conv\n",
      "195/514: Converting Node Type BatchNormalization\n",
      "196/514: Converting Node Type Relu\n",
      "197/514: Converting Node Type Conv\n",
      "198/514: Converting Node Type Add\n",
      "199/514: Converting Node Type BatchNormalization\n",
      "200/514: Converting Node Type Relu\n",
      "201/514: Converting Node Type Conv\n",
      "202/514: Converting Node Type BatchNormalization\n",
      "203/514: Converting Node Type Relu\n",
      "204/514: Converting Node Type Conv\n",
      "205/514: Converting Node Type BatchNormalization\n",
      "206/514: Converting Node Type Relu\n",
      "207/514: Converting Node Type Conv\n",
      "208/514: Converting Node Type Add\n",
      "209/514: Converting Node Type BatchNormalization\n",
      "210/514: Converting Node Type Relu\n",
      "211/514: Converting Node Type Conv\n",
      "212/514: Converting Node Type BatchNormalization\n",
      "213/514: Converting Node Type Relu\n",
      "214/514: Converting Node Type Conv\n"
     ]
    },
    {
     "name": "stdout",
     "output_type": "stream",
     "text": [
      "215/514: Converting Node Type BatchNormalization\n",
      "216/514: Converting Node Type Relu\n",
      "217/514: Converting Node Type Conv\n",
      "218/514: Converting Node Type Add\n",
      "219/514: Converting Node Type BatchNormalization\n",
      "220/514: Converting Node Type Relu\n",
      "221/514: Converting Node Type Conv\n",
      "222/514: Converting Node Type BatchNormalization\n",
      "223/514: Converting Node Type Relu\n",
      "224/514: Converting Node Type Conv\n",
      "225/514: Converting Node Type BatchNormalization\n",
      "226/514: Converting Node Type Relu\n",
      "227/514: Converting Node Type Conv\n",
      "228/514: Converting Node Type Add\n",
      "229/514: Converting Node Type BatchNormalization\n",
      "230/514: Converting Node Type Relu\n",
      "231/514: Converting Node Type Conv\n",
      "232/514: Converting Node Type BatchNormalization\n",
      "233/514: Converting Node Type Relu\n",
      "234/514: Converting Node Type Conv\n",
      "235/514: Converting Node Type BatchNormalization\n",
      "236/514: Converting Node Type Relu\n",
      "237/514: Converting Node Type Conv\n",
      "238/514: Converting Node Type Add\n",
      "239/514: Converting Node Type BatchNormalization\n",
      "240/514: Converting Node Type Relu\n",
      "241/514: Converting Node Type Conv\n",
      "242/514: Converting Node Type BatchNormalization\n",
      "243/514: Converting Node Type Relu\n",
      "244/514: Converting Node Type Conv\n",
      "245/514: Converting Node Type BatchNormalization\n",
      "246/514: Converting Node Type Relu\n",
      "247/514: Converting Node Type Conv\n",
      "248/514: Converting Node Type Add\n",
      "249/514: Converting Node Type BatchNormalization\n",
      "250/514: Converting Node Type Relu\n",
      "251/514: Converting Node Type Conv\n",
      "252/514: Converting Node Type BatchNormalization\n",
      "253/514: Converting Node Type Relu\n",
      "254/514: Converting Node Type Conv\n",
      "255/514: Converting Node Type BatchNormalization\n",
      "256/514: Converting Node Type Relu\n",
      "257/514: Converting Node Type Conv\n",
      "258/514: Converting Node Type Add\n",
      "259/514: Converting Node Type BatchNormalization\n",
      "260/514: Converting Node Type Relu\n",
      "261/514: Converting Node Type Conv\n",
      "262/514: Converting Node Type BatchNormalization\n",
      "263/514: Converting Node Type Relu\n",
      "264/514: Converting Node Type Conv\n",
      "265/514: Converting Node Type BatchNormalization\n",
      "266/514: Converting Node Type Relu\n",
      "267/514: Converting Node Type Conv\n",
      "268/514: Converting Node Type Add\n",
      "269/514: Converting Node Type BatchNormalization\n",
      "270/514: Converting Node Type Relu\n",
      "271/514: Converting Node Type Conv\n",
      "272/514: Converting Node Type BatchNormalization\n",
      "273/514: Converting Node Type Relu\n",
      "274/514: Converting Node Type Conv\n",
      "275/514: Converting Node Type BatchNormalization\n",
      "276/514: Converting Node Type Relu\n",
      "277/514: Converting Node Type Conv\n",
      "278/514: Converting Node Type Add\n",
      "279/514: Converting Node Type BatchNormalization\n",
      "280/514: Converting Node Type Relu\n",
      "281/514: Converting Node Type Conv\n",
      "282/514: Converting Node Type BatchNormalization\n",
      "283/514: Converting Node Type Relu\n",
      "284/514: Converting Node Type Conv\n",
      "285/514: Converting Node Type BatchNormalization\n",
      "286/514: Converting Node Type Relu\n",
      "287/514: Converting Node Type Conv\n",
      "288/514: Converting Node Type Add\n",
      "289/514: Converting Node Type BatchNormalization\n",
      "290/514: Converting Node Type Relu\n",
      "291/514: Converting Node Type Conv\n",
      "292/514: Converting Node Type BatchNormalization\n",
      "293/514: Converting Node Type Relu\n",
      "294/514: Converting Node Type Conv\n",
      "295/514: Converting Node Type BatchNormalization\n",
      "296/514: Converting Node Type Relu\n",
      "297/514: Converting Node Type Conv\n",
      "298/514: Converting Node Type Add\n",
      "299/514: Converting Node Type BatchNormalization\n",
      "300/514: Converting Node Type Relu\n",
      "301/514: Converting Node Type Conv\n",
      "302/514: Converting Node Type BatchNormalization\n",
      "303/514: Converting Node Type Relu\n",
      "304/514: Converting Node Type Conv\n",
      "305/514: Converting Node Type BatchNormalization\n",
      "306/514: Converting Node Type Relu\n",
      "307/514: Converting Node Type Conv\n",
      "308/514: Converting Node Type Add\n",
      "309/514: Converting Node Type BatchNormalization\n",
      "310/514: Converting Node Type Relu\n",
      "311/514: Converting Node Type Conv\n",
      "312/514: Converting Node Type BatchNormalization\n",
      "313/514: Converting Node Type Relu\n",
      "314/514: Converting Node Type Conv\n",
      "315/514: Converting Node Type BatchNormalization\n",
      "316/514: Converting Node Type Relu\n",
      "317/514: Converting Node Type Conv\n",
      "318/514: Converting Node Type Add\n",
      "319/514: Converting Node Type BatchNormalization\n",
      "320/514: Converting Node Type Relu\n",
      "321/514: Converting Node Type Conv\n",
      "322/514: Converting Node Type BatchNormalization\n",
      "323/514: Converting Node Type Relu\n",
      "324/514: Converting Node Type Conv\n",
      "325/514: Converting Node Type BatchNormalization\n",
      "326/514: Converting Node Type Relu\n",
      "327/514: Converting Node Type Conv\n",
      "328/514: Converting Node Type Add\n",
      "329/514: Converting Node Type BatchNormalization\n",
      "330/514: Converting Node Type Relu\n",
      "331/514: Converting Node Type Conv\n",
      "332/514: Converting Node Type BatchNormalization\n",
      "333/514: Converting Node Type Relu\n",
      "334/514: Converting Node Type Conv\n",
      "335/514: Converting Node Type BatchNormalization\n",
      "336/514: Converting Node Type Relu\n",
      "337/514: Converting Node Type Conv\n",
      "338/514: Converting Node Type Add\n",
      "339/514: Converting Node Type BatchNormalization\n",
      "340/514: Converting Node Type Relu\n",
      "341/514: Converting Node Type Conv\n",
      "342/514: Converting Node Type BatchNormalization\n",
      "343/514: Converting Node Type Relu\n",
      "344/514: Converting Node Type Conv\n",
      "345/514: Converting Node Type BatchNormalization\n",
      "346/514: Converting Node Type Relu\n",
      "347/514: Converting Node Type Conv\n",
      "348/514: Converting Node Type Add\n",
      "349/514: Converting Node Type BatchNormalization\n",
      "350/514: Converting Node Type Relu\n",
      "351/514: Converting Node Type Conv\n",
      "352/514: Converting Node Type BatchNormalization\n",
      "353/514: Converting Node Type Relu\n",
      "354/514: Converting Node Type Conv\n",
      "355/514: Converting Node Type BatchNormalization\n",
      "356/514: Converting Node Type Relu\n",
      "357/514: Converting Node Type Conv\n",
      "358/514: Converting Node Type Add\n",
      "359/514: Converting Node Type BatchNormalization\n",
      "360/514: Converting Node Type Relu\n",
      "361/514: Converting Node Type Conv\n",
      "362/514: Converting Node Type BatchNormalization\n",
      "363/514: Converting Node Type Relu\n",
      "364/514: Converting Node Type Conv\n",
      "365/514: Converting Node Type BatchNormalization\n",
      "366/514: Converting Node Type Relu\n",
      "367/514: Converting Node Type Conv\n",
      "368/514: Converting Node Type Add\n",
      "369/514: Converting Node Type BatchNormalization\n",
      "370/514: Converting Node Type Relu\n",
      "371/514: Converting Node Type Conv\n",
      "372/514: Converting Node Type BatchNormalization\n",
      "373/514: Converting Node Type Relu\n",
      "374/514: Converting Node Type Conv\n",
      "375/514: Converting Node Type BatchNormalization\n",
      "376/514: Converting Node Type Relu\n",
      "377/514: Converting Node Type Conv\n",
      "378/514: Converting Node Type Add\n",
      "379/514: Converting Node Type BatchNormalization\n",
      "380/514: Converting Node Type Relu\n",
      "381/514: Converting Node Type Conv\n",
      "382/514: Converting Node Type BatchNormalization\n",
      "383/514: Converting Node Type Relu\n",
      "384/514: Converting Node Type Conv\n",
      "385/514: Converting Node Type BatchNormalization\n",
      "386/514: Converting Node Type Relu\n",
      "387/514: Converting Node Type Conv\n",
      "388/514: Converting Node Type Add\n",
      "389/514: Converting Node Type BatchNormalization\n",
      "390/514: Converting Node Type Relu\n",
      "391/514: Converting Node Type Conv\n",
      "392/514: Converting Node Type BatchNormalization\n",
      "393/514: Converting Node Type Relu\n",
      "394/514: Converting Node Type Conv\n",
      "395/514: Converting Node Type BatchNormalization\n",
      "396/514: Converting Node Type Relu\n",
      "397/514: Converting Node Type Conv\n",
      "398/514: Converting Node Type Add\n",
      "399/514: Converting Node Type BatchNormalization\n",
      "400/514: Converting Node Type Relu\n",
      "401/514: Converting Node Type Conv\n",
      "402/514: Converting Node Type BatchNormalization\n",
      "403/514: Converting Node Type Relu\n",
      "404/514: Converting Node Type Conv\n",
      "405/514: Converting Node Type BatchNormalization\n",
      "406/514: Converting Node Type Relu\n",
      "407/514: Converting Node Type Conv\n",
      "408/514: Converting Node Type Add\n",
      "409/514: Converting Node Type BatchNormalization\n",
      "410/514: Converting Node Type Relu\n",
      "411/514: Converting Node Type Conv\n",
      "412/514: Converting Node Type BatchNormalization\n",
      "413/514: Converting Node Type Relu\n",
      "414/514: Converting Node Type Conv\n",
      "415/514: Converting Node Type BatchNormalization\n",
      "416/514: Converting Node Type Relu\n",
      "417/514: Converting Node Type Conv\n",
      "418/514: Converting Node Type Add\n",
      "419/514: Converting Node Type BatchNormalization\n",
      "420/514: Converting Node Type Relu\n",
      "421/514: Converting Node Type Conv\n",
      "422/514: Converting Node Type BatchNormalization\n",
      "423/514: Converting Node Type Relu\n",
      "424/514: Converting Node Type Conv\n"
     ]
    },
    {
     "name": "stdout",
     "output_type": "stream",
     "text": [
      "425/514: Converting Node Type BatchNormalization\n",
      "426/514: Converting Node Type Relu\n",
      "427/514: Converting Node Type Conv\n",
      "428/514: Converting Node Type Add\n",
      "429/514: Converting Node Type BatchNormalization\n",
      "430/514: Converting Node Type Relu\n",
      "431/514: Converting Node Type Conv\n",
      "432/514: Converting Node Type BatchNormalization\n",
      "433/514: Converting Node Type Relu\n",
      "434/514: Converting Node Type Conv\n",
      "435/514: Converting Node Type BatchNormalization\n",
      "436/514: Converting Node Type Relu\n",
      "437/514: Converting Node Type Conv\n",
      "438/514: Converting Node Type Add\n",
      "439/514: Converting Node Type BatchNormalization\n",
      "440/514: Converting Node Type Relu\n",
      "441/514: Converting Node Type Conv\n",
      "442/514: Converting Node Type BatchNormalization\n",
      "443/514: Converting Node Type Relu\n",
      "444/514: Converting Node Type Conv\n",
      "445/514: Converting Node Type BatchNormalization\n",
      "446/514: Converting Node Type Relu\n",
      "447/514: Converting Node Type Conv\n",
      "448/514: Converting Node Type Add\n",
      "449/514: Converting Node Type BatchNormalization\n",
      "450/514: Converting Node Type Relu\n",
      "451/514: Converting Node Type Conv\n",
      "452/514: Converting Node Type BatchNormalization\n",
      "453/514: Converting Node Type Relu\n",
      "454/514: Converting Node Type Conv\n",
      "455/514: Converting Node Type BatchNormalization\n",
      "456/514: Converting Node Type Relu\n",
      "457/514: Converting Node Type Conv\n",
      "458/514: Converting Node Type Add\n",
      "459/514: Converting Node Type BatchNormalization\n",
      "460/514: Converting Node Type Relu\n",
      "461/514: Converting Node Type Conv\n",
      "462/514: Converting Node Type BatchNormalization\n",
      "463/514: Converting Node Type Relu\n",
      "464/514: Converting Node Type Conv\n",
      "465/514: Converting Node Type BatchNormalization\n",
      "466/514: Converting Node Type Relu\n",
      "467/514: Converting Node Type Conv\n",
      "468/514: Converting Node Type Add\n",
      "469/514: Converting Node Type BatchNormalization\n",
      "470/514: Converting Node Type Relu\n",
      "471/514: Converting Node Type Conv\n",
      "472/514: Converting Node Type BatchNormalization\n",
      "473/514: Converting Node Type Relu\n",
      "474/514: Converting Node Type Conv\n",
      "475/514: Converting Node Type BatchNormalization\n",
      "476/514: Converting Node Type Relu\n",
      "477/514: Converting Node Type Conv\n",
      "478/514: Converting Node Type Add\n",
      "479/514: Converting Node Type BatchNormalization\n",
      "480/514: Converting Node Type Relu\n",
      "481/514: Converting Node Type Conv\n",
      "482/514: Converting Node Type BatchNormalization\n",
      "483/514: Converting Node Type Relu\n",
      "484/514: Converting Node Type Conv\n",
      "485/514: Converting Node Type BatchNormalization\n",
      "486/514: Converting Node Type Relu\n",
      "487/514: Converting Node Type Conv\n",
      "488/514: Converting Node Type Conv\n",
      "489/514: Converting Node Type Add\n",
      "490/514: Converting Node Type BatchNormalization\n",
      "491/514: Converting Node Type Relu\n",
      "492/514: Converting Node Type Conv\n",
      "493/514: Converting Node Type BatchNormalization\n",
      "494/514: Converting Node Type Relu\n",
      "495/514: Converting Node Type Conv\n",
      "496/514: Converting Node Type BatchNormalization\n",
      "497/514: Converting Node Type Relu\n",
      "498/514: Converting Node Type Conv\n",
      "499/514: Converting Node Type Add\n",
      "500/514: Converting Node Type BatchNormalization\n",
      "501/514: Converting Node Type Relu\n",
      "502/514: Converting Node Type Conv\n",
      "503/514: Converting Node Type BatchNormalization\n",
      "504/514: Converting Node Type Relu\n",
      "505/514: Converting Node Type Conv\n",
      "506/514: Converting Node Type BatchNormalization\n",
      "507/514: Converting Node Type Relu\n",
      "508/514: Converting Node Type Conv\n",
      "509/514: Converting Node Type Add\n",
      "510/514: Converting Node Type BatchNormalization\n",
      "511/514: Converting Node Type Relu\n",
      "512/514: Converting Node Type GlobalAveragePool\n",
      "513/514: Converting Node Type Reshape\n",
      "514/514: Converting Node Type Gemm\n",
      "Translation to CoreML spec completed. Now compiling the CoreML model.\n",
      "Model Compilation done.\n"
     ]
    }
   ],
   "source": [
    "model = ct.converters.onnx.convert(\n",
    "    model=os.path.join(MODELS_PATH, SRC_MODEL_FILE_NAME),\n",
    "    mode='classifier', \n",
    "    class_labels='./labels.txt',\n",
    "    image_input_names=['data'],\n",
    "    preprocessing_args={\n",
    "        'image_scale': image_scale,\n",
    "        'red_bias': bias_r,\n",
    "        'green_bias': bias_g,\n",
    "        'blue_bias': bias_b\n",
    "    },\n",
    "    minimum_ios_deployment_target='13'\n",
    ")"
   ]
  },
  {
   "cell_type": "code",
   "execution_count": 13,
   "metadata": {},
   "outputs": [
    {
     "name": "stdout",
     "output_type": "stream",
     "text": [
      "input {\n",
      "  name: \"data\"\n",
      "  type {\n",
      "    imageType {\n",
      "      width: 224\n",
      "      height: 224\n",
      "      colorSpace: RGB\n",
      "    }\n",
      "  }\n",
      "}\n",
      "output {\n",
      "  name: \"resnetv27_dense0_fwd\"\n",
      "  type {\n",
      "    dictionaryType {\n",
      "      stringKeyType {\n",
      "      }\n",
      "    }\n",
      "  }\n",
      "}\n",
      "output {\n",
      "  name: \"classLabel\"\n",
      "  type {\n",
      "    stringType {\n",
      "    }\n",
      "  }\n",
      "}\n",
      "predictedFeatureName: \"classLabel\"\n",
      "predictedProbabilitiesName: \"resnetv27_dense0_fwd\"\n",
      "metadata {\n",
      "  userDefined {\n",
      "    key: \"com.github.apple.coremltools.source\"\n",
      "    value: \"onnx==1.7.0\"\n",
      "  }\n",
      "  userDefined {\n",
      "    key: \"com.github.apple.coremltools.version\"\n",
      "    value: \"4.0b1\"\n",
      "  }\n",
      "}\n",
      "\n"
     ]
    }
   ],
   "source": [
    "print(model)"
   ]
  },
  {
   "cell_type": "code",
   "execution_count": 14,
   "metadata": {},
   "outputs": [],
   "source": [
    "model.save(os.path.join(MODELS_PATH, DST_MODEL_FILE_NAME))"
   ]
  },
  {
   "cell_type": "markdown",
   "metadata": {},
   "source": [
    "## Running a prediction"
   ]
  },
  {
   "cell_type": "code",
   "execution_count": 23,
   "metadata": {},
   "outputs": [],
   "source": [
    "model = ct.models.MLModel(os.path.join(MODELS_PATH, DST_MODEL_FILE_NAME))"
   ]
  },
  {
   "cell_type": "code",
   "execution_count": 24,
   "metadata": {},
   "outputs": [],
   "source": [
    "from PIL import Image"
   ]
  },
  {
   "cell_type": "code",
   "execution_count": 25,
   "metadata": {},
   "outputs": [],
   "source": [
    "image = Image.open('ballpen.jpg')"
   ]
  },
  {
   "cell_type": "code",
   "execution_count": 26,
   "metadata": {},
   "outputs": [
    {
     "name": "stdout",
     "output_type": "stream",
     "text": [
      "image size: (640, 640)\n",
      "image channels: ('R', 'G', 'B')\n"
     ]
    }
   ],
   "source": [
    "print(\"image size:\", image.size)\n",
    "print(\"image channels:\", image.getbands())"
   ]
  },
  {
   "cell_type": "code",
   "execution_count": 27,
   "metadata": {},
   "outputs": [],
   "source": [
    "image = image.resize((224,224))"
   ]
  },
  {
   "cell_type": "markdown",
   "metadata": {},
   "source": [
    "Let's see the image - with PIL it is enough to \"execute\" the variable name"
   ]
  },
  {
   "cell_type": "code",
   "execution_count": 28,
   "metadata": {},
   "outputs": [
    {
     "data": {
      "image/png": "[encoded data removed]",
      "text/plain": [
       "<PIL.Image.Image image mode=RGB size=224x224 at 0x7FAA7B2D6CA0>"
      ]
     },
     "execution_count": 28,
     "metadata": {},
     "output_type": "execute_result"
    }
   ],
   "source": [
    "image"
   ]
  },
  {
   "cell_type": "code",
   "execution_count": 29,
   "metadata": {},
   "outputs": [],
   "source": [
    "pred = model.predict(data={\"data\": image})"
   ]
  },
  {
   "cell_type": "code",
   "execution_count": 30,
   "metadata": {},
   "outputs": [
    {
     "name": "stdout",
     "output_type": "stream",
     "text": [
      "ballpoint, ballpoint pen, ballpen, Biro\n"
     ]
    }
   ],
   "source": [
    "print(pred['classLabel'])"
   ]
  },
  {
   "cell_type": "markdown",
   "metadata": {},
   "source": [
    "### Decoding the prediction"
   ]
  },
  {
   "cell_type": "code",
   "execution_count": 31,
   "metadata": {},
   "outputs": [
    {
     "name": "stdout",
     "output_type": "stream",
     "text": [
      "output layer: resnetv27_dense0_fwd\n"
     ]
    }
   ],
   "source": [
    "output_layer_name = list(pred.keys())[1]\n",
    "print(\"output layer:\", output_layer_name)"
   ]
  },
  {
   "cell_type": "code",
   "execution_count": 32,
   "metadata": {},
   "outputs": [],
   "source": [
    "pred_dict = pred[output_layer_name]"
   ]
  },
  {
   "cell_type": "code",
   "execution_count": 33,
   "metadata": {},
   "outputs": [],
   "source": [
    "sorted_pred = [i for i in sorted(pred_dict.items(), key=lambda item: item[1], reverse=True)]"
   ]
  },
  {
   "cell_type": "code",
   "execution_count": 34,
   "metadata": {},
   "outputs": [
    {
     "name": "stdout",
     "output_type": "stream",
     "text": [
      "('ballpoint, ballpoint pen, ballpen, Biro', 17.4841251373291)\n",
      "('rubber eraser, rubber, pencil eraser', 12.197568893432617)\n",
      "('fountain pen', 10.722954750061035)\n",
      "('whistle', 8.942205429077148)\n",
      "('pencil sharpener', 8.66175365447998)\n"
     ]
    }
   ],
   "source": [
    "for l in sorted_pred[:5]:\n",
    "    print(l)"
   ]
  },
  {
   "cell_type": "markdown",
   "metadata": {},
   "source": [
    "Converting confidence to a meaningful value (using softmax):"
   ]
  },
  {
   "cell_type": "code",
   "execution_count": 35,
   "metadata": {},
   "outputs": [],
   "source": [
    "import math"
   ]
  },
  {
   "cell_type": "code",
   "execution_count": 36,
   "metadata": {},
   "outputs": [],
   "source": [
    "sum_exp = np.sum(np.exp(list(pred_dict.values())))"
   ]
  },
  {
   "cell_type": "code",
   "execution_count": 37,
   "metadata": {},
   "outputs": [
    {
     "name": "stdout",
     "output_type": "stream",
     "text": [
      "('ballpoint, ballpoint pen, ballpen, Biro', 0.9929359910561075)\n",
      "('rubber eraser, rubber, pencil eraser', 0.005023414882465598)\n",
      "('fountain pen', 0.0011496939937033455)\n",
      "('whistle', 0.00019373703939148062)\n",
      "('pencil sharpener', 0.00014635716910071583)\n"
     ]
    }
   ],
   "source": [
    "for l in [(i[0], math.exp(i[1])/sum_exp) for i in sorted_pred][:5]:\n",
    "    print(l)"
   ]
  },
  {
   "cell_type": "code",
   "execution_count": null,
   "metadata": {},
   "outputs": [],
   "source": []
  }
 ],
 "metadata": {
  "kernelspec": {
   "display_name": "Python 3",
   "language": "python",
   "name": "python3"
  },
  "language_info": {
   "codemirror_mode": {
    "name": "ipython",
    "version": 3
   },
   "file_extension": ".py",
   "mimetype": "text/x-python",
   "name": "python",
   "nbconvert_exporter": "python",
   "pygments_lexer": "ipython3",
   "version": "3.8.3"
  }
 },
 "nbformat": 4,
 "nbformat_minor": 4
}
