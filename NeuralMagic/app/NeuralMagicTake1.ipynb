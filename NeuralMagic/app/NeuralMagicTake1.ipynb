{
 "cells": [
  {
   "cell_type": "code",
   "execution_count": 2,
   "id": "corresponding-central",
   "metadata": {},
   "outputs": [
    {
     "name": "stdout",
     "output_type": "stream",
     "text": [
      "Get:1 http://security.debian.org/debian-security buster/updates InRelease [65.4 kB]\n",
      "Get:2 http://deb.debian.org/debian buster InRelease [122 kB]\n",
      "Get:3 http://security.debian.org/debian-security buster/updates/main amd64 Packages [268 kB]\n",
      "Get:4 http://deb.debian.org/debian buster-updates InRelease [51.9 kB]\n",
      "Get:5 http://deb.debian.org/debian buster/main amd64 Packages [7907 kB]\n",
      "Get:6 http://deb.debian.org/debian buster-updates/main amd64 Packages [9504 B]\n",
      "Fetched 8423 kB in 2s (3936 kB/s)                    \n",
      "Reading package lists... Done\n"
     ]
    }
   ],
   "source": [
    "!apt-get update"
   ]
  },
  {
   "cell_type": "code",
   "execution_count": 3,
   "id": "animal-worthy",
   "metadata": {},
   "outputs": [
    {
     "name": "stdout",
     "output_type": "stream",
     "text": [
      "Reading package lists... Done\n",
      "Building dependency tree       \n",
      "Reading state information... Done\n",
      "The following additional packages will be installed:\n",
      "  libpcre2-8-0 libpsl5 publicsuffix\n",
      "The following NEW packages will be installed:\n",
      "  libpcre2-8-0 libpsl5 publicsuffix wget\n",
      "0 upgraded, 4 newly installed, 0 to remove and 2 not upgraded.\n",
      "Need to get 1285 kB of archives.\n",
      "After this operation, 4328 kB of additional disk space will be used.\n",
      "Get:1 http://deb.debian.org/debian buster/main amd64 libpcre2-8-0 amd64 10.32-5 [213 kB]\n",
      "Get:2 http://deb.debian.org/debian buster/main amd64 libpsl5 amd64 0.20.2-2 [53.7 kB]\n",
      "Get:3 http://deb.debian.org/debian buster/main amd64 wget amd64 1.20.1-1.1 [902 kB]\n",
      "Get:4 http://deb.debian.org/debian buster/main amd64 publicsuffix all 20190415.1030-1 [116 kB]\n",
      "Fetched 1285 kB in 0s (2994 kB/s)    \n",
      "debconf: delaying package configuration, since apt-utils is not installed\n",
      "Selecting previously unselected package libpcre2-8-0:amd64.\n",
      "(Reading database ... 6840 files and directories currently installed.)\n",
      "Preparing to unpack .../libpcre2-8-0_10.32-5_amd64.deb ...\n",
      "Unpacking libpcre2-8-0:amd64 (10.32-5) ...\n",
      "Selecting previously unselected package libpsl5:amd64.\n",
      "Preparing to unpack .../libpsl5_0.20.2-2_amd64.deb ...\n",
      "Unpacking libpsl5:amd64 (0.20.2-2) ...\n",
      "Selecting previously unselected package wget.\n",
      "Preparing to unpack .../wget_1.20.1-1.1_amd64.deb ...\n",
      "Unpacking wget (1.20.1-1.1) ...\n",
      "Selecting previously unselected package publicsuffix.\n",
      "Preparing to unpack .../publicsuffix_20190415.1030-1_all.deb ...\n",
      "Unpacking publicsuffix (20190415.1030-1) ...\n",
      "Setting up libpsl5:amd64 (0.20.2-2) ...\n",
      "Setting up libpcre2-8-0:amd64 (10.32-5) ...\n",
      "Setting up publicsuffix (20190415.1030-1) ...\n",
      "Setting up wget (1.20.1-1.1) ...\n",
      "Processing triggers for libc-bin (2.28-10) ...\n"
     ]
    }
   ],
   "source": [
    "!apt-get -y install wget"
   ]
  },
  {
   "cell_type": "code",
   "execution_count": 4,
   "id": "vietnamese-withdrawal",
   "metadata": {},
   "outputs": [
    {
     "name": "stdout",
     "output_type": "stream",
     "text": [
      "--2021-03-12 12:56:09--  https://github.com/onnx/models/raw/master/vision/classification/mobilenet/model/mobilenetv2-7.onnx\n",
      "Resolving github.com (github.com)... 140.82.121.4\n",
      "Connecting to github.com (github.com)|140.82.121.4|:443... connected.\n",
      "HTTP request sent, awaiting response... 302 Found\n",
      "Location: https://media.githubusercontent.com/media/onnx/models/master/vision/classification/mobilenet/model/mobilenetv2-7.onnx [following]\n",
      "--2021-03-12 12:56:10--  https://media.githubusercontent.com/media/onnx/models/master/vision/classification/mobilenet/model/mobilenetv2-7.onnx\n",
      "Resolving media.githubusercontent.com (media.githubusercontent.com)... 185.199.111.133, 185.199.108.133, 185.199.109.133, ...\n",
      "Connecting to media.githubusercontent.com (media.githubusercontent.com)|185.199.111.133|:443... connected.\n",
      "HTTP request sent, awaiting response... 200 OK\n",
      "Length: 13963115 (13M) [application/octet-stream]\n",
      "Saving to: ‘mobilenetv2-7.onnx’\n",
      "\n",
      "mobilenetv2-7.onnx  100%[===================>]  13.32M  4.25MB/s    in 3.2s    \n",
      "\n",
      "2021-03-12 12:56:16 (4.12 MB/s) - ‘mobilenetv2-7.onnx’ saved [13963115/13963115]\n",
      "\n"
     ]
    }
   ],
   "source": [
    "!wget https://github.com/onnx/models/raw/master/vision/classification/mobilenet/model/mobilenetv2-7.onnx"
   ]
  },
  {
   "cell_type": "code",
   "execution_count": 5,
   "id": "environmental-alfred",
   "metadata": {},
   "outputs": [],
   "source": [
    "from deepsparse import compile_model\n",
    "from deepsparse.utils import generate_random_inputs"
   ]
  },
  {
   "cell_type": "code",
   "execution_count": 6,
   "id": "sunrise-studio",
   "metadata": {},
   "outputs": [],
   "source": [
    "onnx_filepath = \"mobilenetv2-7.onnx\"\n",
    "batch_size = 16"
   ]
  },
  {
   "cell_type": "code",
   "execution_count": 7,
   "id": "functional-scotland",
   "metadata": {},
   "outputs": [
    {
     "name": "stderr",
     "output_type": "stream",
     "text": [
      "[     INFO            onnx.py: 127 - generate_random_inputs() ] -- generating random input #0 of shape = [16, 3, 224, 224]\n"
     ]
    }
   ],
   "source": [
    "# Generate random sample input\n",
    "inputs = generate_random_inputs(onnx_filepath, batch_size)"
   ]
  },
  {
   "cell_type": "code",
   "execution_count": 19,
   "id": "exact-review",
   "metadata": {},
   "outputs": [],
   "source": [
    "# Compile and run\n",
    "engine = compile_model(onnx_filepath, batch_size, num_cores=2, num_sockets=1)"
   ]
  },
  {
   "cell_type": "code",
   "execution_count": 20,
   "id": "authentic-aaron",
   "metadata": {},
   "outputs": [],
   "source": [
    "outputs = engine.run(inputs)"
   ]
  },
  {
   "cell_type": "code",
   "execution_count": 21,
   "id": "discrete-resistance",
   "metadata": {},
   "outputs": [
    {
     "name": "stdout",
     "output_type": "stream",
     "text": [
      "1 1\n"
     ]
    }
   ],
   "source": [
    "print(len(inputs), len(outputs))"
   ]
  },
  {
   "cell_type": "code",
   "execution_count": 22,
   "id": "global-attitude",
   "metadata": {},
   "outputs": [
    {
     "data": {
      "text/plain": [
       "(16, 3, 224, 224)"
      ]
     },
     "execution_count": 22,
     "metadata": {},
     "output_type": "execute_result"
    }
   ],
   "source": [
    "inputs[0].shape"
   ]
  },
  {
   "cell_type": "code",
   "execution_count": null,
   "id": "defensive-notion",
   "metadata": {},
   "outputs": [],
   "source": []
  }
 ],
 "metadata": {
  "kernelspec": {
   "display_name": "Python 3",
   "language": "python",
   "name": "python3"
  },
  "language_info": {
   "codemirror_mode": {
    "name": "ipython",
    "version": 3
   },
   "file_extension": ".py",
   "mimetype": "text/x-python",
   "name": "python",
   "nbconvert_exporter": "python",
   "pygments_lexer": "ipython3",
   "version": "3.8.8"
  }
 },
 "nbformat": 4,
 "nbformat_minor": 5
}
